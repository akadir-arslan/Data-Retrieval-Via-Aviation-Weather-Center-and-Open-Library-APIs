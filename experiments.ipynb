{
 "cells": [
  {
   "cell_type": "markdown",
   "metadata": {},
   "source": [
    "# Data Retrieval via Aviation Weather Center and Open Library APIs\n",
    "\n",
    "#### `Name & Surname: Abdulkadir Arslan`"
   ]
  },
  {
   "cell_type": "markdown",
   "metadata": {},
   "source": [
    "# 1 - AVIATION WEATHER CENTER "
   ]
  },
  {
   "cell_type": "code",
   "execution_count": 3,
   "metadata": {},
   "outputs": [],
   "source": [
    "import requests"
   ]
  },
  {
   "cell_type": "code",
   "execution_count": 8,
   "metadata": {},
   "outputs": [
    {
     "name": "stdout",
     "output_type": "stream",
     "text": [
      "200\n"
     ]
    }
   ],
   "source": [
    "response = requests.get(\"https://aviationweather.gov/api/data/metar?ids=EDDH&format=json\")\n",
    "print(response.status_code)"
   ]
  },
  {
   "cell_type": "code",
   "execution_count": 9,
   "metadata": {},
   "outputs": [
    {
     "name": "stdout",
     "output_type": "stream",
     "text": [
      "[\n",
      "    {\n",
      "        \"altim\": 994,\n",
      "        \"clouds\": [\n",
      "            {\n",
      "                \"base\": 1700,\n",
      "                \"cover\": \"SCT\"\n",
      "            },\n",
      "            {\n",
      "                \"base\": 2200,\n",
      "                \"cover\": \"BKN\"\n",
      "            },\n",
      "            {\n",
      "                \"base\": 2800,\n",
      "                \"cover\": \"BKN\"\n",
      "            }\n",
      "        ],\n",
      "        \"dewp\": 9,\n",
      "        \"elev\": 8,\n",
      "        \"icaoId\": \"EDDH\",\n",
      "        \"lat\": 53.633,\n",
      "        \"lon\": 9.988,\n",
      "        \"maxT\": null,\n",
      "        \"maxT24\": null,\n",
      "        \"metarType\": \"METAR\",\n",
      "        \"metar_id\": 447530578,\n",
      "        \"minT\": null,\n",
      "        \"minT24\": null,\n",
      "        \"mostRecent\": 1,\n",
      "        \"name\": \"Hamburg Arpt, HH, DE\",\n",
      "        \"obsTime\": 1699950000,\n",
      "        \"pcp24hr\": null,\n",
      "        \"pcp3hr\": null,\n",
      "        \"pcp6hr\": null,\n",
      "        \"precip\": null,\n",
      "        \"presTend\": null,\n",
      "        \"prior\": 2,\n",
      "        \"qcField\": 2,\n",
      "        \"rawOb\": \"EDDH 140820Z AUTO 26017G29KT 220V290 9999 -SHRA SCT017 BKN022 BKN028 FEW///TCU 11/09 Q0994 RESHRA TEMPO SHRA\",\n",
      "        \"receiptTime\": \"2023-11-14 08:26:04\",\n",
      "        \"reportTime\": \"2023-11-14 08:20:00\",\n",
      "        \"slp\": null,\n",
      "        \"snow\": null,\n",
      "        \"temp\": 11,\n",
      "        \"vertVis\": null,\n",
      "        \"visib\": \"6+\",\n",
      "        \"wdir\": 260,\n",
      "        \"wgst\": 29,\n",
      "        \"wspd\": 17,\n",
      "        \"wxString\": \"-SHRA\"\n",
      "    }\n",
      "]\n"
     ]
    }
   ],
   "source": [
    "import json\n",
    "\n",
    "def jprint(obj):\n",
    "    # create a formatted string of the Python JSON object\n",
    "    text = json.dumps(obj, sort_keys=True, indent=4)\n",
    "    print(text)\n",
    "\n",
    "jprint(response.json())"
   ]
  },
  {
   "cell_type": "markdown",
   "metadata": {},
   "source": [
    "## Answer1"
   ]
  },
  {
   "cell_type": "code",
   "execution_count": 10,
   "metadata": {},
   "outputs": [
    {
     "name": "stdout",
     "output_type": "stream",
     "text": [
      "The name of the airport is: \n",
      "\"Hamburg Arpt, HH, DE\"\n"
     ]
    }
   ],
   "source": [
    "airport_name = response.json()[0]['name']\n",
    "print('The name of the airport is: ')\n",
    "jprint(airport_name)"
   ]
  },
  {
   "cell_type": "markdown",
   "metadata": {},
   "source": [
    "## Answer2"
   ]
  },
  {
   "cell_type": "markdown",
   "metadata": {},
   "source": [
    "https://aviationweather.gov/api/data/airport?ids=EDDH"
   ]
  },
  {
   "cell_type": "code",
   "execution_count": 11,
   "metadata": {},
   "outputs": [
    {
     "name": "stdout",
     "output_type": "stream",
     "text": [
      "200\n"
     ]
    }
   ],
   "source": [
    "response_iata = requests.get('https://aviationweather.gov/api/data/airport?ids=EDDH&format=json')\n",
    "print(response_iata.status_code)"
   ]
  },
  {
   "cell_type": "code",
   "execution_count": 12,
   "metadata": {},
   "outputs": [
    {
     "name": "stdout",
     "output_type": "stream",
     "text": [
      "[\n",
      "    {\n",
      "        \"beacon\": \"B\",\n",
      "        \"country\": \"DE\",\n",
      "        \"elev\": 8,\n",
      "        \"freqs\": [\n",
      "            {\n",
      "                \"freq\": 123.12,\n",
      "                \"type\": \"ATIS\"\n",
      "            },\n",
      "            {\n",
      "                \"freq\": 121.27,\n",
      "                \"type\": \"TWR\"\n",
      "            }\n",
      "        ],\n",
      "        \"iata\": \"HAM\",\n",
      "        \"id\": \"EDDH\",\n",
      "        \"ind\": 110,\n",
      "        \"lat\": 53.6318,\n",
      "        \"lon\": 9.9951,\n",
      "        \"mag_dec\": \"2E\",\n",
      "        \"name\": \"HAMBURG AIRPORT\",\n",
      "        \"passengers\": 17,\n",
      "        \"prior\": 0,\n",
      "        \"runways\": [\n",
      "            {\n",
      "                \"alignment\": \"-\",\n",
      "                \"dimension\": \"12024x150\",\n",
      "                \"id\": \"15/33\",\n",
      "                \"surface\": \"H\"\n",
      "            },\n",
      "            {\n",
      "                \"alignment\": \"-\",\n",
      "                \"dimension\": \"10663x150\",\n",
      "                \"id\": \"05/23\",\n",
      "                \"surface\": \"H\"\n",
      "            }\n",
      "        ],\n",
      "        \"rwy_len\": \"L\",\n",
      "        \"rwy_num\": 2,\n",
      "        \"rwy_type\": \"H\",\n",
      "        \"services\": \"S\",\n",
      "        \"source\": \"Intl\",\n",
      "        \"state\": \"-\",\n",
      "        \"tower\": \"T\",\n",
      "        \"type\": \"ARP\",\n",
      "        \"use\": \"P\"\n",
      "    }\n",
      "]\n"
     ]
    }
   ],
   "source": [
    "jprint(response_iata.json())"
   ]
  },
  {
   "cell_type": "code",
   "execution_count": 13,
   "metadata": {},
   "outputs": [
    {
     "name": "stdout",
     "output_type": "stream",
     "text": [
      "The IATA code of the airport is: \n",
      "\"HAM\"\n"
     ]
    }
   ],
   "source": [
    "iata_code = response_iata.json()[0]['iata']\n",
    "print('The IATA code of the airport is: ')\n",
    "jprint(iata_code)"
   ]
  },
  {
   "cell_type": "markdown",
   "metadata": {},
   "source": [
    "## Answer3"
   ]
  },
  {
   "cell_type": "code",
   "execution_count": 14,
   "metadata": {},
   "outputs": [
    {
     "name": "stdout",
     "output_type": "stream",
     "text": [
      "The geolocation of the airport is : 9.9951 longtitude and 53.6318 latitude\n"
     ]
    }
   ],
   "source": [
    "lon_lat = response_iata.json()[0]['lat']\n",
    "lon_alt = response_iata.json()[0]['lon']\n",
    "print(f'The geolocation of the airport is : {lon_alt} longtitude and {lon_lat} latitude')"
   ]
  },
  {
   "cell_type": "markdown",
   "metadata": {},
   "source": [
    "## Answer4"
   ]
  },
  {
   "cell_type": "code",
   "execution_count": 15,
   "metadata": {},
   "outputs": [
    {
     "name": "stdout",
     "output_type": "stream",
     "text": [
      "The airport has 2 runways\n"
     ]
    }
   ],
   "source": [
    "number_of_runways = response_iata.json()[0]['rwy_num']\n",
    "print(f'The airport has {number_of_runways} runways')"
   ]
  },
  {
   "cell_type": "markdown",
   "metadata": {},
   "source": [
    "# 2 - OPEN LIBRARY "
   ]
  },
  {
   "cell_type": "markdown",
   "metadata": {},
   "source": [
    "https://openlibrary.org/books/&bibkeys=ISBN:0451526538978-1108491457"
   ]
  },
  {
   "cell_type": "code",
   "execution_count": 6,
   "metadata": {},
   "outputs": [
    {
     "name": "stdout",
     "output_type": "stream",
     "text": [
      "200\n"
     ]
    }
   ],
   "source": [
    "response_book = requests.get(\"https://openlibrary.org/isbn/978-1108491457.json\")\n",
    "print(response_book.status_code)"
   ]
  },
  {
   "cell_type": "code",
   "execution_count": 16,
   "metadata": {},
   "outputs": [
    {
     "name": "stdout",
     "output_type": "stream",
     "text": [
      "{\n",
      "    \"authors\": [\n",
      "        {\n",
      "            \"key\": \"/authors/OL5316574A\"\n",
      "        }\n",
      "    ],\n",
      "    \"created\": {\n",
      "        \"type\": \"/type/datetime\",\n",
      "        \"value\": \"2021-10-08T00:56:13.055059\"\n",
      "    },\n",
      "    \"full_title\": \"Quantum Internet The Second Quantum Revolution\",\n",
      "    \"isbn_13\": [\n",
      "        \"9781108491457\"\n",
      "    ],\n",
      "    \"key\": \"/books/OL34781685M\",\n",
      "    \"languages\": [\n",
      "        {\n",
      "            \"key\": \"/languages/eng\"\n",
      "        }\n",
      "    ],\n",
      "    \"last_modified\": {\n",
      "        \"type\": \"/type/datetime\",\n",
      "        \"value\": \"2021-10-08T00:56:13.055059\"\n",
      "    },\n",
      "    \"latest_revision\": 1,\n",
      "    \"pagination\": \"300\",\n",
      "    \"publish_date\": \"2021\",\n",
      "    \"publishers\": [\n",
      "        \"University of Cambridge ESOL Examinations\"\n",
      "    ],\n",
      "    \"revision\": 1,\n",
      "    \"source_records\": [\n",
      "        \"bwb:9781108491457\"\n",
      "    ],\n",
      "    \"subtitle\": \"The Second Quantum Revolution\",\n",
      "    \"title\": \"Quantum Internet\",\n",
      "    \"type\": {\n",
      "        \"key\": \"/type/edition\"\n",
      "    },\n",
      "    \"works\": [\n",
      "        {\n",
      "            \"key\": \"/works/OL25800800W\"\n",
      "        }\n",
      "    ]\n",
      "}\n"
     ]
    }
   ],
   "source": [
    "jprint(response_book.json())"
   ]
  },
  {
   "cell_type": "markdown",
   "metadata": {},
   "source": [
    "## ALL Answers"
   ]
  },
  {
   "cell_type": "code",
   "execution_count": 32,
   "metadata": {},
   "outputs": [],
   "source": [
    "main_url = 'https://openlibrary.org'\n",
    "isbn_par = '/isbn/9781108491457.json'\n",
    "isbnReq_url = main_url + isbn_par\n",
    "isbnReq = requests.get(isbnReq_url)"
   ]
  },
  {
   "cell_type": "code",
   "execution_count": 33,
   "metadata": {},
   "outputs": [],
   "source": [
    "author_param = isbnReq.json()['authors'][0]['key']\n",
    "authorRequest_url = main_url + author_param + '.json'\n",
    "authorRequest = requests.get(authorRequest_url)"
   ]
  },
  {
   "cell_type": "code",
   "execution_count": 34,
   "metadata": {},
   "outputs": [],
   "source": [
    "markoLuksa_param = '/search/authors.json?q=marko%20luksa'\n",
    "markoLuksaRequest_url = main_url + markoLuksa_param\n",
    "markoLuksaRequest = requests.get(markoLuksaRequest_url)"
   ]
  },
  {
   "cell_type": "code",
   "execution_count": 35,
   "metadata": {},
   "outputs": [],
   "source": [
    "title = isbnReq.json()['title']\n",
    "subtitle = isbnReq.json()['subtitle']\n",
    "author = authorRequest.json()['name']\n",
    "markoLuksaTop = markoLuksaRequest.json()['docs'][0]['top_work']\n",
    "markoLuksaCount = markoLuksaRequest.json()['docs'][0]['work_count']"
   ]
  },
  {
   "cell_type": "code",
   "execution_count": 36,
   "metadata": {},
   "outputs": [
    {
     "name": "stdout",
     "output_type": "stream",
     "text": [
      "Title: Quantum Internet\n",
      "Subtitle: The Second Quantum Revolution\n",
      "Author: Peter P. Rohde\n",
      "Top Work of Marko Luksa: Kubernetes in Action\n",
      "Book Count of Marko Luksa: 2\n"
     ]
    }
   ],
   "source": [
    "print('Title: ' + title + '\\n' + 'Subtitle: ' + subtitle + '\\n' + 'Author: ' + author + '\\n' + 'Top Work of Marko Luksa: ' + str(markoLuksaTop) + '\\n' + 'Book Count of Marko Luksa: ' + str(markoLuksaCount))"
   ]
  }
 ],
 "metadata": {
  "kernelspec": {
   "display_name": "envTPDSWiSe23",
   "language": "python",
   "name": "python3"
  },
  "language_info": {
   "codemirror_mode": {
    "name": "ipython",
    "version": 3
   },
   "file_extension": ".py",
   "mimetype": "text/x-python",
   "name": "python",
   "nbconvert_exporter": "python",
   "pygments_lexer": "ipython3",
   "version": "3.11.5"
  }
 },
 "nbformat": 4,
 "nbformat_minor": 2
}
